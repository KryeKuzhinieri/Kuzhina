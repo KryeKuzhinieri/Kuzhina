{
 "cells": [
  {
   "cell_type": "markdown",
   "metadata": {},
   "source": [
    "# Python - Tërheq të dhëna nga webfaqe të ndryshme \n",
    "### <i>For English Scroll Down</i>"
   ]
  },
  {
   "cell_type": "markdown",
   "metadata": {},
   "source": [
    "### Ideja\n",
    "Shpeshherë dëgjojmë se në gjuhën shqipe nuk ka të dhëna të mjaftueshme për të ndërtuar modele të NLP-së. Më anë të këtij mësimi synoj që të aftësoj dhe të sqaroj një mënyrë të tërheqjes së të dhënave nga interneti duke përdorur gjuhën programuese python. \n",
    "\n",
    "### Qëllimi:\n",
    "Siç u cek më lart, qëllimi im është të ndërtoj një model që klasifikon lajmet në bazë të llojit (politikë, sport, kronika rozë etj.) duke perdorur Natural Language Processing (NLP). Prandaj webfaqja nga e cila do të merren të dhënat është https://telegrafi.com/arkiva/\n",
    "\n",
    "### Mënyra:\n",
    "Për të arritur qëllimin tonë do të përdorim këto paketa:\n",
    "    1. requests_html (pip install requests-html)\n",
    "    2. BeautifulSoup (pip install beautifulsoup4)\n",
    "    "
   ]
  },
  {
   "cell_type": "markdown",
   "metadata": {},
   "source": [
    "#### Hapi i parë - Vizito dhe kupto webfaqen\n",
    "Fillimisht vizitoni webfaqen https://telegrafi.com/arkiva/. Kjo faqe do t'ju drejtojë në datën e sotme https://telegrafi.com/arkiva/2020-06-12/. Qëllimi jonë është që të shkruajmë një algoritëm që për secilin lajm do të kopjojë titullin e lajmit dhe do të hyjë brenda në lajm dhe do të kopjojë dhe përbmajtjen e lajmit. Në mënyrë që të kuptojmë strukturën e telegrafit duhet që të dimë pak HTML. Prandaj, në shfletuesin tuaj <i>(p.sh: Google Chrome)</i> mbani të shtypur njëkohësisht <b>Ctrl+Shift+I</b>. Si rezultat do të na shfaqet kodi i HTML-së që përdor telegrafi dhe pas një analize të shkurtër mund të shohim se sektori i cili i përmban titujt e lajmeve është <b>\"arkiva-list-box\"</b>. \n",
    "\n",
    "``` HTML \n",
    "    <div class=\"arkiva-list-box lajme\">\n",
    "        <a href=\"https://telegrafi.com/anti-korrupsioni-ta-hetoje-bfi-ne-per-mashtrim-financiar/\">\n",
    "            <span class=\"published_at\">12.06.2020<strong>04:56</strong></span>\n",
    "            Anti-korrupsioni do ta hetojë BFI-në për mashtrim financiar\n",
    "        </a>\n",
    "    </div>  \n",
    "```\n",
    "\n",
    "Atëherë, për çdo lajm në <b>(arkiva-list-box)</b> do të tërheqim titullin dhe përmbajtjen. \n"
   ]
  },
  {
   "cell_type": "markdown",
   "metadata": {
    "ExecuteTime": {
     "end_time": "2020-06-12T15:11:21.357784Z",
     "start_time": "2020-06-12T15:11:21.354781Z"
    }
   },
   "source": [
    "#### Hapi i dytë - Shndërro idenë në kod\n",
    "    1. Importo paketat e duhura.\n",
    "    2. Krijo dy lista për ti ruajtur të dhënat e shkarkuara.\n",
    "    3. Tërheq të dhënat."
   ]
  },
  {
   "cell_type": "code",
   "execution_count": 12,
   "metadata": {
    "ExecuteTime": {
     "end_time": "2020-06-12T16:41:24.373038Z",
     "start_time": "2020-06-12T16:41:24.317839Z"
    }
   },
   "outputs": [],
   "source": [
    "from bs4 import BeautifulSoup #paketa që tërheq të dhënat nga interneti.\n",
    "from requests_html import HTMLSession \n",
    "import datetime \n",
    "import pandas as pd"
   ]
  },
  {
   "cell_type": "code",
   "execution_count": 13,
   "metadata": {
    "ExecuteTime": {
     "end_time": "2020-06-12T16:41:25.277304Z",
     "start_time": "2020-06-12T16:41:25.273764Z"
    }
   },
   "outputs": [],
   "source": [
    "article = []\n",
    "content = []\n",
    "\n",
    "headers = {\n",
    "     'User-Agent': 'Mozilla/5.0 (Macintosh; Intel Mac OS X 10_13_6) AppleWebKit/537.36 (KHTML, like Gecko) Chrome/68.0.3440.106 Safari/537.36',\n",
    "}"
   ]
  },
  {
   "cell_type": "code",
   "execution_count": 14,
   "metadata": {
    "ExecuteTime": {
     "end_time": "2020-06-12T16:41:36.864722Z",
     "start_time": "2020-06-12T16:41:35.427723Z"
    }
   },
   "outputs": [],
   "source": [
    "URL = 'https://telegrafi.com/arkiva/2020-06-12/' #linku i plotë.\n",
    "session = HTMLSession() \n",
    "page = session.get(URL, headers=headers) #vizito telegrafin.\n",
    "soup = BeautifulSoup(page.content, 'html.parser') #tërheq të gjithë përmbajtjen e faqes telegrafi.com.\n",
    "results = soup.find_all('div', class_=\"arkiva-list-box\") #specifiko të dhënat që dëshiron ti marrësh.\n",
    "#print(results) "
   ]
  },
  {
   "cell_type": "markdown",
   "metadata": {},
   "source": [
    "Kodi i mësipërm shfaq të gjithë titujt, datat, kodin e HTML-së dhe informacionet që ndodhen brenda rubrikës <b>\"arkiva-list-box\"</b>. Mirëpo, ne jemi të interesuar që të marrim vetëm titullin."
   ]
  },
  {
   "cell_type": "code",
   "execution_count": 15,
   "metadata": {
    "ExecuteTime": {
     "end_time": "2020-06-12T16:41:53.450809Z",
     "start_time": "2020-06-12T16:41:53.437145Z"
    }
   },
   "outputs": [
    {
     "name": "stdout",
     "output_type": "stream",
     "text": [
      "\n",
      "12.06.202012:00\n",
      "        Sabri Fejzullahu pas pranimit të “Çelësit të Prishtinës”: Nder dhe kënaqësi, faleminderit nga zemra ju dua të gjithëve     \n",
      " https://telegrafi.com/sabri-fejzullahu-pas-pranimit-te-celesit-te-prishtines-nder-dhe-kenaqesi-faleminderit-nga-zemra-ju-dua-te-gjitheve/ \n",
      "\n",
      "\n"
     ]
    }
   ],
   "source": [
    "for result in results:\n",
    "    news_title = result.find('a') #merr të gjithë informacionin që ndodhet brenda <a></a>\n",
    "    link = news_title['href'] #merr vetëm URL-në.\n",
    "    title = news_title.text #merr vetëm tekstin pa HTML\n",
    "print(title,'\\n', link, '\\n\\n')"
   ]
  },
  {
   "cell_type": "markdown",
   "metadata": {},
   "source": [
    "Pasi që nuk na duhet data, na duhet të gjejmë një metodë që ta fshijmë nga teksti. Data gjendet brenda rubrikës span.\n",
    "\n",
    "```HTML\n",
    "    <span class=\"published_at\">12.06.2020<strong>05:23</strong></span>\n",
    "```"
   ]
  },
  {
   "cell_type": "code",
   "execution_count": 16,
   "metadata": {
    "ExecuteTime": {
     "end_time": "2020-06-12T16:42:01.121633Z",
     "start_time": "2020-06-12T16:42:01.090760Z"
    }
   },
   "outputs": [
    {
     "name": "stdout",
     "output_type": "stream",
     "text": [
      "\n",
      "        Sabri Fejzullahu pas pranimit të “Çelësit të Prishtinës”: Nder dhe kënaqësi, faleminderit nga zemra ju dua të gjithëve     \n",
      " https://telegrafi.com/sabri-fejzullahu-pas-pranimit-te-celesit-te-prishtines-nder-dhe-kenaqesi-faleminderit-nga-zemra-ju-dua-te-gjitheve/ \n",
      "\n",
      "\n"
     ]
    }
   ],
   "source": [
    "for result in results:\n",
    "    news_title = result.find('a') #merr të gjithë informacionin që ndodhet brenda <a></a>\n",
    "    link = news_title['href'] #merr vetëm URL-në.\n",
    "    title_unclean = news_title.text #merr vetëm tekstin pa HTML (Së bashku me datë)\n",
    "    span = news_title.find('span').text #merr vetëm tekstin që ndodhet brenda <span></span>.\n",
    "    title = title_unclean[len(span)+1:] #fshij datën nga teksti.\n",
    "print(title,'\\n', link, '\\n\\n')"
   ]
  },
  {
   "cell_type": "markdown",
   "metadata": {},
   "source": [
    "Që të tërheqim përmbajtjen e lajmit, na duhet që të vizitojmë secilin link. Që të gjejmë vendndodhjen e tekstit në lajm duhet që të hapim linkun dhe të mbajmë shtypur <b>Ctrl+Shift+I</b>. Le ta vizitojmë këtë link: https://telegrafi.com/qytetare-te-kosoves-e-pjesetare-te-kfor-kujtojne-diten-e-clirimit/. \n",
    "\n",
    "\n",
    "```HTML\n",
    "<div class=\"article-body\" data-io-article-url=\"https://telegrafi.com/qytetare-te-kosoves-e-pjesetare-te-kfor-kujtojne-diten-e-clirimit/\">\n",
    "    <p>\n",
    "        <strong>\n",
    "            Dita e çlirimit shënoi kthesën më të madhe historike të vendit, por pavarësisht kësaj qytetarët nuk janë të kënaqur me progresin e arritur pasi pritjet për zhvillimin e vendit ishin shumë më të mëdha. \n",
    "        </strong>\n",
    "    </p>\t\t\t\t\t\t\t\n",
    "</div>\n",
    "\n",
    "```"
   ]
  },
  {
   "cell_type": "code",
   "execution_count": 17,
   "metadata": {
    "ExecuteTime": {
     "end_time": "2020-06-12T16:43:22.462721Z",
     "start_time": "2020-06-12T16:42:16.513278Z"
    },
    "scrolled": true
   },
   "outputs": [
    {
     "name": "stdout",
     "output_type": "stream",
     "text": [
      "\n",
      "        Sabri Fejzullahu pas pranimit të “Çelësit të Prishtinës”: Nder dhe kënaqësi, faleminderit nga zemra ju dua të gjithëve     \n",
      " https://telegrafi.com/sabri-fejzullahu-pas-pranimit-te-celesit-te-prishtines-nder-dhe-kenaqesi-faleminderit-nga-zemra-ju-dua-te-gjitheve/ \n",
      " \n",
      "Këngëtari i njohur shqiptar, Sabri Fejzullahu, është nderuar të enjten me mirënjohjen “Çelësi i Prishtinës”.\n",
      "Kjo dekoratë iu dhurua atij nga kryetari i komunës, Shpend Ahmeti, në shenjë mirënjohje për kontributin e tij artistik ndër vite.\n",
      "Pas pranimit të këtij çmimi, Fejzullahu ka reaguar me një postim në rrjetet sociale, ku ka bërë të ditur se e kishte për nder ta pranonte këtë çmim.\n",
      "\n",
      "Lexo po ashtu:\n",
      "\n",
      "\n",
      "\n",
      "Sabri Fejzullahu nderohet me çmimin “Çelësi i Qytetit” nga Komuna e Prishtinës\n",
      "\n",
      "\n",
      "\n",
      "\n",
      "“Në 21 vjetorin e çlirimit të Prishtinës sime, sot pata nderin dhe kënaqësinë që nga Komuna e Prishtinës, respektivisht kryetari Shpend Ahmeti dhe ekipi i tij i mrekullueshëm, të pranoj ÇELËSIN E PRISHTINËS. Ju faleminderit nga zemra të gjithëve. Ju dua. I juaji, Sabri Fejzullahu”, ka shkruar këngëtari i njohur në Instagram.\n",
      "\n",
      "   \n",
      "\n",
      "\n"
     ]
    }
   ],
   "source": [
    "for result in results:\n",
    "    news_title = result.find('a') #merr të gjithë informacionin që ndodhet brenda <a></a>\n",
    "    link = news_title['href'] #merr vetëm URL-në.\n",
    "    title_unclean = news_title.text #merr vetëm tekstin pa HTML (Së bashku me datë)\n",
    "    span = news_title.find('span').text #merr vetëm tekstin që ndodhet brenda <span></span>.\n",
    "    title = title_unclean[len(span)+1:] #fshij datën nga teksti.\n",
    "\n",
    "    #Vizito linkun dhe merr lajmin:\n",
    "    body_soup = BeautifulSoup(session.get(link, headers=headers).content, 'html.parser') #vizito linkun.\n",
    "    body_results = body_soup.find('div', class_=\"article-body\").text #tërheq lajmin e plotë\n",
    "    \n",
    "    article.append(title)\n",
    "    content.append(body_results)\n",
    "    \n",
    "print(title,'\\n', link, '\\n', body_results, '\\n\\n')"
   ]
  },
  {
   "cell_type": "markdown",
   "metadata": {},
   "source": [
    "Kemi arritur që me sukses të tërheqim të dhënat nga telegrafi.com për një ditë. Si të veprojmë që nxjerrim lajmet e ditëve të mëhershme? Fatmirësisht, telegrafi i ruan lajmet sipas datës. Prandaj, nga https://telegrafi.com/arkiva/2020-06-12/ <b>(2020-06-12)</b> na duhet që të zbresim një ditë <b>(2020-06-11)</b>."
   ]
  },
  {
   "cell_type": "code",
   "execution_count": 18,
   "metadata": {
    "ExecuteTime": {
     "end_time": "2020-06-12T16:43:41.973792Z",
     "start_time": "2020-06-12T16:43:41.934782Z"
    }
   },
   "outputs": [
    {
     "name": "stdout",
     "output_type": "stream",
     "text": [
      "Data fillestare: 2020-06-12 \n",
      "Data e re: 2020-06-11\n"
     ]
    }
   ],
   "source": [
    "url_date = URL[29:39] #mbaj vetëm datën nga linku.\n",
    "url_date = datetime.datetime.strptime(url_date,\"%Y-%m-%d\")\n",
    "end_date = url_date - datetime.timedelta(days=1)\n",
    "print(\"Data fillestare:\", url_date.date(), \"\\nData e re:\", end_date.date())"
   ]
  },
  {
   "cell_type": "markdown",
   "metadata": {
    "ExecuteTime": {
     "end_time": "2020-06-12T15:58:27.747733Z",
     "start_time": "2020-06-12T15:58:27.738181Z"
    }
   },
   "source": [
    "### Kodi i plotë:\n",
    "\n",
    "```Python\n",
    "\n",
    "from bs4 import BeautifulSoup\n",
    "import pandas as pd\n",
    "import datetime\n",
    "from requests_html import HTMLSession\n",
    "\n",
    "article = []\n",
    "content = []\n",
    "\n",
    "URL = 'https://telegrafi.com/arkiva/2020-06-09/'\n",
    "\n",
    "headers = {\n",
    "     'User-Agent': 'Mozilla/5.0 (Macintosh; Intel Mac OS X 10_13_6) AppleWebKit/537.36 (KHTML, like Gecko) Chrome/68.0.3440.106 Safari/537.36',\n",
    "}\n",
    "\n",
    "session = HTMLSession()\n",
    "for i in range(50): #Tërheq të dhëna për 50 ditë\n",
    "    print('Dita {0}'.format(i+1))\n",
    "    page = session.get(URL, headers=headers)\n",
    "    soup = BeautifulSoup(page.content, 'html.parser')\n",
    "\n",
    "    results = soup.find_all('div', class_=\"arkiva-list-box\")\n",
    "\n",
    "    for result in results:\n",
    "        news_title = result.find('a') #merr të gjithë informacionin që ndodhet brenda <a></a>\n",
    "        link = news_title['href'] #merr vetëm URL-në.\n",
    "        title_unclean = news_title.text #merr vetëm tekstin pa HTML (Së bashku me datë)\n",
    "        span = news_title.find('span').text #merr vetëm tekstin që ndodhet brenda <span></span>.\n",
    "        title = title_unclean[len(span)+1:] #fshij datën nga teksti.\n",
    "\n",
    "        #Vizito linkun dhe merr lajmin:\n",
    "        body_soup = BeautifulSoup(session.get(link, headers=headers).content, 'html.parser') #vizito linkun.\n",
    "        body_results = body_soup.find('div', class_=\"article-body\").text #tërheq lajmin e plotë\n",
    "        \n",
    "        #Ruaj të dhënat në listë\n",
    "        article.append(title)\n",
    "        content.append(body_results)\n",
    "\n",
    "    #getting previous date:\n",
    "    url_date = URL[29:39] #mbaj vetëm datën nga linku.\n",
    "    url_date = datetime.datetime.strptime(url_date,\"%Y-%m-%d\")\n",
    "    end_date = url_date - datetime.timedelta(days=1)\n",
    "    URL = URL[:29] + str(end_date.date())\n",
    "    print(URL)\n",
    "    print('\\n\\n\\n')\n",
    "    \n",
    "df = pd.DataFrame(data={\"Article\": article, \"Content\": content}) #Ruaj të dhënat si csv\n",
    "df.to_csv(\"telegrafi.csv\", sep=',',index=False)\n",
    "\n",
    "```\n",
    "\n",
    "### Gatim të këndshëm!"
   ]
  },
  {
   "cell_type": "markdown",
   "metadata": {
    "ExecuteTime": {
     "end_time": "2020-06-12T16:29:41.036613Z",
     "start_time": "2020-06-12T16:29:41.033430Z"
    }
   },
   "source": []
  }
 ],
 "metadata": {
  "kernelspec": {
   "display_name": "Python 3",
   "language": "python",
   "name": "python3"
  },
  "language_info": {
   "codemirror_mode": {
    "name": "ipython",
    "version": 3
   },
   "file_extension": ".py",
   "mimetype": "text/x-python",
   "name": "python",
   "nbconvert_exporter": "python",
   "pygments_lexer": "ipython3",
   "version": "3.7.6"
  }
 },
 "nbformat": 4,
 "nbformat_minor": 4
}
